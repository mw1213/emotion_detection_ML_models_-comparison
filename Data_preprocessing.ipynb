{
 "cells": [
  {
   "cell_type": "markdown",
   "metadata": {},
   "source": [
    "<h1 style=\"text-align: center\">Klasyfikowanie emocji za pomocą sygnałów EDA i ECG</h1>\n",
    "<h3 style=\"text-align: center\">Projekt z przedmiotu Podstawy Sztucznej Inteligencji, EAIiIB 2019/20</h3>\n",
    "<h5 style=\"text-align: right\"> Tabor Ewa, Maciej Wilk</h5>"
   ]
  },
  {
   "cell_type": "markdown",
   "metadata": {},
   "source": [
    "<h1> Wstępna eksploracja i preprocessing: </h1>\n",
    "\n",
    "Z danych zebranych podczas badań BIRAFFE: Bio-Reactions and Faces for Emotion-based Personalization wybrano dwa zbiory:\n",
    "BIRAFFE-biosigs oraz BIRAFFE-photo. Następnie dla każdego uczestnika połączono (jeśli istniały) odpowiednie dane z powyższych zbiorów i tak przygotowane dane zapisano do plików: 'mergedX.csv', gdzie X to kolejny identyfikator. Podczas tego łączenia usunięto kolumny: \"PICTURE-TIMESTAMP\", \"IADS-ID\", \"IAPS-ID\", na których nie będą przeprowadzone dalsze obliczenia, oraz przefiltrowano dane i usunięto te wiersze, które zawierały wartość NaN.\n",
    "\n"
   ]
  },
  {
   "cell_type": "code",
   "execution_count": 16,
   "metadata": {},
   "outputs": [],
   "source": [
    "import numpy as np\n",
    "import pandas as pd\n",
    "import sklearn\n",
    "import sys\n",
    "import glob\n",
    "import re"
   ]
  },
  {
   "cell_type": "code",
   "execution_count": 17,
   "metadata": {},
   "outputs": [],
   "source": [
    "path = \"BIRAFFE-photo\"\n",
    "path2 = \"BIRAFFE-biosigs\"\n",
    "wyp_path = \"MERGED\""
   ]
  },
  {
   "cell_type": "code",
   "execution_count": 18,
   "metadata": {},
   "outputs": [],
   "source": [
    "all_files = glob.glob(path + \"/*.csv\")\n",
    "all_files2 = glob.glob(path2 + \"/*.csv\")"
   ]
  },
  {
   "cell_type": "code",
   "execution_count": 23,
   "metadata": {},
   "outputs": [
    {
     "name": "stdout",
     "output_type": "stream",
     "text": [
      "<class 'str'>\n"
     ]
    },
    {
     "data": {
      "text/plain": [
       "'1107'"
      ]
     },
     "execution_count": 23,
     "metadata": {},
     "output_type": "execute_result"
    }
   ],
   "source": [
    "text = re.search('SUB(.+?)-Face', all_files[0]).group(1)\n",
    "print(type(all_files[0]))\n",
    "text"
   ]
  },
  {
   "cell_type": "code",
   "execution_count": 20,
   "metadata": {},
   "outputs": [
    {
     "data": {
      "text/plain": [
       "'1107'"
      ]
     },
     "execution_count": 20,
     "metadata": {},
     "output_type": "execute_result"
    }
   ],
   "source": [
    "text2 = re.search('SUB(.+?)-BioSigs', all_files2[0]).group(1)\n",
    "text2 "
   ]
  },
  {
   "cell_type": "code",
   "execution_count": 27,
   "metadata": {},
   "outputs": [],
   "source": [
    "i=0\n",
    "for filename in all_files:\n",
    "    for filename2 in all_files2:\n",
    "        text = re.search('SUB(.+?)-Face', filename).group(1)\n",
    "        text2 = re.search('SUB(.+?)-BioSigs', filename2).group(1)\n",
    "        if (text == text2):\n",
    "            i+=1\n",
    "            face_data = pd.read_csv(filename, sep=';')\n",
    "            face_data = face_data.drop(columns = [\"PICTURE-TIMESTAMP\", \"IADS-ID\", \"IAPS-ID\"]).dropna()\n",
    "            bio_data = pd.read_csv(filename2, sep=';')\n",
    "            bio_data = bio_data.dropna()\n",
    "            face_data[\"GAME-TIMESTAMP\"] = face_data[\"GAME-TIMESTAMP\"].round(3)\n",
    "            merged = pd.merge(left=face_data,right=bio_data, left_on='GAME-TIMESTAMP', right_on='TIMESTAMP')\n",
    "            merged.to_csv(\"{}/merged{}.csv\".format(wyp_path,i))\n",
    "            break\n",
    "        else:\n",
    "            continue"
   ]
  }
 ],
 "metadata": {
  "kernelspec": {
   "display_name": "Python 3",
   "language": "python",
   "name": "python3"
  },
  "language_info": {
   "codemirror_mode": {
    "name": "ipython",
    "version": 3
   },
   "file_extension": ".py",
   "mimetype": "text/x-python",
   "name": "python",
   "nbconvert_exporter": "python",
   "pygments_lexer": "ipython3",
   "version": "3.7.4"
  }
 },
 "nbformat": 4,
 "nbformat_minor": 2
}
